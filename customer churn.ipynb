{
  "nbformat": 4,
  "nbformat_minor": 0,
  "metadata": {
    "colab": {
      "provenance": [],
      "authorship_tag": "ABX9TyMIrgLv5JoneD3KM/lQXl7F",
      "include_colab_link": true
    },
    "kernelspec": {
      "name": "python3",
      "display_name": "Python 3"
    },
    "language_info": {
      "name": "python"
    }
  },
  "cells": [
    {
      "cell_type": "markdown",
      "metadata": {
        "id": "view-in-github",
        "colab_type": "text"
      },
      "source": [
        "<a href=\"https://colab.research.google.com/github/Haritachi/Code-with-hari/blob/main/customer%20churn.ipynb\" target=\"_parent\"><img src=\"https://colab.research.google.com/assets/colab-badge.svg\" alt=\"Open In Colab\"/></a>"
      ]
    },
    {
      "cell_type": "code",
      "source": [
        "import pandas as pd\n",
        "from sklearn.model_selection import train_test_split\n",
        "from sklearn.linear_model import LinearRegression\n",
        "from sklearn.preprocessing import LabelEncoder\n",
        "from sklearn.metrics import mean_squared_error, r2_score\n",
        "\n",
        "# Load your dataset\n",
        "# Example: df = pd.read_csv('customer_data.csv')\n",
        "df = pd.read_csv('churn.csv')  # Make sure this file has the correct columns\n",
        "\n",
        "# Drop CustomerID (not useful for prediction)\n",
        "df = df.drop('CustomerID', axis=1)\n",
        "\n",
        "# Encode categorical column 'Gender'\n",
        "df['Gender'] = LabelEncoder().fit_transform(df['Gender'])  # Male: 1, Female: 0\n",
        "\n",
        "# Convert 'Churn' to numeric: Yes=1, No=0\n",
        "df['Churn'] = df['Churn'].map({'Yes': 1, 'No': 0})\n",
        "\n",
        "# Ensure TotalCharges is numeric (sometimes may contain spaces or non-numeric values)\n",
        "df['TotalCharges'] = pd.to_numeric(df['TotalCharges'], errors='coerce')\n",
        "df = df.dropna()  # Drop rows with missing values (could also be imputed)\n",
        "\n",
        "# Define features and target\n",
        "X = df[['Gender', 'Age', 'Tenure', 'MonthlyCharges', 'TotalCharges']]\n",
        "y = df['Churn']\n",
        "\n",
        "# Train/test split\n",
        "X_train, X_test, y_train, y_test = train_test_split(X, y, test_size=0.2, random_state=42)\n",
        "\n",
        "# Initialize and train the linear regression model\n",
        "model = LinearRegression()\n",
        "model.fit(X_train, y_train)\n",
        "\n",
        "# Predictions\n",
        "y_pred = model.predict(X_test)\n",
        "\n",
        "# Evaluate the model\n",
        "mse = mean_squared_error(y_test, y_pred)\n",
        "r2 = r2_score(y_test, y_pred)\n",
        "\n",
        "print(\"Mean Squared Error:\", mse)\n",
        "print(\"R² Score:\", r2)\n",
        "\n",
        "# Optional: Binarize predictions to interpret as churn (yes/no)\n",
        "y_pred_binary = [1 if pred > 0.5 else 0 for pred in y_pred]\n",
        "\n",
        "gender = input(\"Enter Gender (Male=1, Female=0): \")\n",
        "age = float(input(\"Enter Age: \"))\n",
        "tenure = float(input(\"Enter Tenure: \"))\n",
        "monthly_charges = float(input(\"Enter Monthly Charges: \"))\n",
        "total_charges = float(input(\"Enter Total Charges: \"))\n",
        "\n",
        "new_customer = pd.DataFrame({\n",
        "    'Gender': [gender],\n",
        "    'Age': [age],\n",
        "    'Tenure': [tenure],\n",
        "    'MonthlyCharges': [monthly_charges],\n",
        "    'TotalCharges': [total_charges]\n",
        "})\n",
        "\n",
        "predicted_churn = model.predict(new_customer)\n",
        "if predicted_churn > 0.5:\n",
        "    print(\"Predicted Churn: Yes\")\n",
        "else:\n",
        "    print(\"Predicted Churn: No\")\n",
        "\n",
        "\n",
        "\n",
        "\n",
        "\n"
      ],
      "metadata": {
        "colab": {
          "base_uri": "https://localhost:8080/"
        },
        "id": "sOdAh9W_rhQ1",
        "outputId": "136c5e82-8198-4e4a-eba9-c6b35e8911b9"
      },
      "execution_count": 21,
      "outputs": [
        {
          "output_type": "stream",
          "name": "stdout",
          "text": [
            "Mean Squared Error: 0.09137704067260415\n",
            "R² Score: 0.42889349579622427\n",
            "Enter Gender (Male=1, Female=0): 1\n",
            "Enter Age: 23\n",
            "Enter Tenure: 5\n",
            "Enter Monthly Charges: 1250\n",
            "Enter Total Charges: 12500\n",
            "Predicted Churn: Yes\n"
          ]
        }
      ]
    }
  ]
}